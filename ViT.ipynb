{
 "cells": [
  {
   "cell_type": "code",
   "execution_count": null,
   "id": "c335fb8c",
   "metadata": {},
   "outputs": [],
   "source": [
    "#si ya se ha instalado estos paquetes no es necesario sino dara fallos\n",
    "pip install test_tube\n",
    "pip install pytorch-lightning"
   ]
  },
  {
   "cell_type": "code",
   "execution_count": 47,
   "id": "8513f98d",
   "metadata": {},
   "outputs": [],
   "source": [
    "import pytorch_lightning as pl\n",
    "import torch\n",
    "import matplotlib.pyplot as plt\n",
    "import torch.nn.functional as F\n",
    "from sklearn.datasets import fetch_openml\n",
    "import numpy as np\n",
    "from torch.utils.data import DataLoader\n"
   ]
  },
  {
   "cell_type": "code",
   "execution_count": 48,
   "id": "12619691",
   "metadata": {},
   "outputs": [],
   "source": [
    "import os\n",
    "import torch\n",
    "import torchvision\n",
    "import PIL.Image as Image\n",
    "import torchvision.transforms as transforms\n",
    "import matplotlib.pyplot as plt\n",
    "import numpy as np"
   ]
  },
  {
   "cell_type": "code",
   "execution_count": 49,
   "id": "097a2bc6",
   "metadata": {},
   "outputs": [],
   "source": [
    "#direccion utilizada para los datasets de train y tests\n",
    "train_dataset_path = 'C:/Users/eloy/Downloads/pajaros2/birds/birds'\n",
    "test_dataset_path = 'C:/Users/eloy/Downloads/pajaros2/birds/birdsTest'"
   ]
  },
  {
   "cell_type": "code",
   "execution_count": 50,
   "id": "22003d51",
   "metadata": {},
   "outputs": [],
   "source": [
    "#desviacion tipica\n",
    "mean = [0.4704, 0.4669, 0.3898]\n",
    "#desviacion estandar\n",
    "std = [0.2037, 0.2002, 0.2051]\n",
    "#Estas son unas serie de transformaciones para transformarlas a 224 por 224 y ayudan a una mayor comprension de la red segun investigamos\n",
    "train_transforms = transforms.Compose([\n",
    "                                        transforms.Resize((224,224)),\n",
    "                                        transforms.RandomHorizontalFlip(),\n",
    "                                        transforms.RandomRotation(10),\n",
    "                                        transforms.ToTensor(),\n",
    "                                        transforms.Normalize(torch.Tensor(mean), torch.Tensor(std))])\n",
    "\n",
    "test_transforms = transforms.Compose([\n",
    "                                        transforms.Resize((224,224)),\n",
    "                                        transforms.ToTensor(),\n",
    "                                        transforms.Normalize(torch.Tensor(mean), torch.Tensor(std))])"
   ]
  },
  {
   "cell_type": "code",
   "execution_count": 51,
   "id": "7cff0fef",
   "metadata": {},
   "outputs": [],
   "source": [
    "#definimos una clase para crear los loaders y todo tipo de dato necesario \n",
    "#puede cambiarse aqui el batch size \n",
    "class DataModule(pl.LightningDataModule):\n",
    "\n",
    "    def __init__(self, batch_size: int = 64):\n",
    "        super().__init__()\n",
    "        self.batch_size = batch_size\n",
    "\n",
    "    def setup(self, stage=None):\n",
    "        self.train_dataset = torchvision.datasets.ImageFolder(root=train_dataset_path, transform=train_transforms)\n",
    "        self.test_dataset = torchvision.datasets.ImageFolder(root= test_dataset_path, transform=test_transforms)\n",
    "\n",
    "    def train_dataloader(self):\n",
    "        return DataLoader(self.train_dataset, batch_size=self.batch_size, shuffle=True)\n",
    "\n",
    "    def val_dataloader(self):\n",
    "        return DataLoader(self.test_dataset, batch_size=self.batch_size)"
   ]
  },
  {
   "cell_type": "code",
   "execution_count": 52,
   "id": "3568189a",
   "metadata": {},
   "outputs": [
    {
     "data": {
      "text/plain": [
       "(torch.Size([64, 3, 224, 224]), torch.Size([64]))"
      ]
     },
     "execution_count": 52,
     "metadata": {},
     "output_type": "execute_result"
    }
   ],
   "source": [
    "#(torch.Size([tamaño del batch, numero de canales de la imagen, tamaño en xde la imagen , tamaño en y de la imagen]), torch.Size([tamaño del batch]))\n",
    "#esto lo hacemos para crear los datos de las imagenes junto a sus labels\n",
    "dm = DataModule()\n",
    "dm.setup()\n",
    "imgs, labels = next(iter(dm.train_dataloader()))\n",
    "imgs.shape, labels.shape"
   ]
  },
  {
   "cell_type": "code",
   "execution_count": 53,
   "id": "4298f72e",
   "metadata": {},
   "outputs": [],
   "source": [
    "import torch.nn as nn\n",
    "\n",
    "\n",
    "# creacion del PatchEmbedding que divide en parches las imagenes de entrada\n",
    "class PatchEmbedding(nn.Module):\n",
    "    def __init__(self, img_size, patch_size, in_chans, embed_dim):\n",
    "        super().__init__()\n",
    "        self.img_size = img_size\n",
    "        self.patch_size = patch_size\n",
    "        self.n_patches = (img_size // patch_size) ** 2\n",
    "        self.patch_size = patch_size\n",
    "        self.proj = nn.Conv2d(in_chans, embed_dim, kernel_size=patch_size, stride=patch_size)\n",
    "\n",
    "    def forward(self, x):\n",
    "        x = self.proj(x)  # (B, E, P, P)\n",
    "        x = x.flatten(2)  # (B, E, N)\n",
    "        x = x.transpose(1, 2)  # (B, N, E)\n",
    "        return x"
   ]
  },
  {
   "cell_type": "code",
   "execution_count": 54,
   "id": "99564322",
   "metadata": {},
   "outputs": [
    {
     "data": {
      "text/plain": [
       "torch.Size([64, 49, 300])"
      ]
     },
     "execution_count": 54,
     "metadata": {},
     "output_type": "execute_result"
    }
   ],
   "source": [
    "#torch.Size([tamaño del batch, numero de parches, numero de valores por cada parche])\n",
    "pe = PatchEmbedding(224, 32, 3, 300)\n",
    "out = pe(imgs)\n",
    "out.shape"
   ]
  },
  {
   "cell_type": "code",
   "execution_count": 55,
   "id": "cde509d3",
   "metadata": {},
   "outputs": [],
   "source": [
    "import math\n",
    "\n",
    "#creamos el modelo de atencion, en este caso del tipo MultiHeadAttention \n",
    "class MultiHeadAttention(nn.Module):\n",
    "\n",
    "    def __init__(self, n_embd, n_heads):\n",
    "        super().__init__()\n",
    "        self.n_heads = n_heads #numero de cabezas \n",
    "        \n",
    "        \n",
    "        # key, query, value\n",
    "        \n",
    "        self.key = nn.Linear(n_embd, n_embd*n_heads)\n",
    "        self.query = nn.Linear(n_embd, n_embd*n_heads)\n",
    "        self.value = nn.Linear(n_embd, n_embd*n_heads)\n",
    "        \n",
    "        # proyeccion\n",
    "        self.proj = nn.Linear(n_embd*n_heads, n_embd)\n",
    "\n",
    "    def forward(self, x):\n",
    "        B, L, F = x.size()\n",
    "        \n",
    "        #calcula la query, key, values para todas las cabeza para todas las cabezas en batch \n",
    "        \n",
    "        k = self.key(x).view(B, L, F, self.n_heads).transpose(1, 3) # (B, nh, L, F)\n",
    "        q = self.query(x).view(B, L, F, self.n_heads).transpose(1, 3) # (B, nh, L, F)\n",
    "        v = self.value(x).view(B, L, F, self.n_heads).transpose(1, 3) # (B, nh, L, F)\n",
    "        \n",
    "        # aplicamos la formula (B, nh, L, F) x (B, nh, F, L) -> (B, nh, L, L) \n",
    "        att = (q @ k.transpose(-2, -1)) * (1.0 / math.sqrt(k.size(-1)))\n",
    "        att = torch.nn.functional.softmax(att, dim=-1)\n",
    "        y = att @ v # (B, nh, L, L) x (B, nh, L, F) -> (B, nh, L, F)\n",
    "        y = y.transpose(1, 2).contiguous().view(B, L, F*self.n_heads) #volvemos a ensamblar todas las salidas de la cabeza una al lado de la otra\n",
    "        \n",
    "        return self.proj(y)"
   ]
  },
  {
   "cell_type": "code",
   "execution_count": 56,
   "id": "ad862e8a",
   "metadata": {},
   "outputs": [],
   "source": [
    "\n",
    "#creamos el bloque encoder siguiendo el esquema de ViT\n",
    "class TransformerBlock(nn.Module):\n",
    "    def __init__(self, n_embd, n_heads):\n",
    "        super().__init__()\n",
    "        self.ln1 = nn.LayerNorm(n_embd)\n",
    "        self.ln2 = nn.LayerNorm(n_embd)\n",
    "        self.attn = MultiHeadAttention(n_embd, n_heads)\n",
    "        self.mlp = nn.Sequential(\n",
    "            nn.Linear(n_embd, 4 * n_embd),\n",
    "            nn.ReLU(),\n",
    "            nn.Linear(4 * n_embd, n_embd),\n",
    "        )\n",
    "        \n",
    "    def forward(self, x):\n",
    "        x = x + self.attn(self.ln1(x))\n",
    "        x = x + self.mlp(self.ln2(x))\n",
    "        return x"
   ]
  },
  {
   "cell_type": "code",
   "execution_count": 57,
   "id": "20f2d459",
   "metadata": {},
   "outputs": [],
   "source": [
    "#creamos la clase visual transformer siguiendo el modelo establecido para este tipo de transformer \n",
    "#aqui puedes cambiar todo los atributos para este transformer \n",
    "class ViT(nn.Module):\n",
    "\n",
    "    def __init__(self, img_size=224, patch_size=7, in_chans=3, embed_dim=100, n_heads=3, n_layers=3, n_classes=400):\n",
    "        super().__init__()\n",
    "\n",
    "        self.patch_embed = PatchEmbedding(img_size, patch_size, in_chans, embed_dim)\n",
    "        self.cls_token = nn.Parameter(torch.zeros(1, 1, embed_dim))\n",
    "        self.pos_embed = nn.Parameter(torch.zeros(1, 1 + self.patch_embed.n_patches, embed_dim))\n",
    "        \n",
    "        self.tranformer = torch.nn.Sequential(*[TransformerBlock(embed_dim, n_heads) for _ in range(n_layers)])\n",
    "        \n",
    "        self.ln = nn.LayerNorm(embed_dim)\n",
    "        self.fc = torch.nn.Linear(embed_dim, n_classes)\n",
    "\n",
    "    def forward(self, x):\n",
    "        e = self.patch_embed(x)\n",
    "        B, L, E = e.size()\n",
    "        \n",
    "        cls_token = self.cls_token.expand(B, -1, -1)  # (B, 1, E)\n",
    "        e = torch.cat((cls_token, e), dim=1)  # (B, 1 + N, E)\n",
    "        e = e + self.pos_embed  # (B, 1 + N, E)\n",
    "        \n",
    "        z = self.tranformer(e)\n",
    "        \n",
    "        cls_token_final = z[:, 0]  \n",
    "        y = self.fc(cls_token_final)\n",
    "\n",
    "        return y"
   ]
  },
  {
   "cell_type": "code",
   "execution_count": 58,
   "id": "a522bcdc",
   "metadata": {},
   "outputs": [],
   "source": [
    "#definimos el entrenamiento a seguir para el modelo\n",
    "class Model(pl.LightningModule):\n",
    "\n",
    "    def __init__(self):\n",
    "        super().__init__()\n",
    "        self.vit = ViT()\n",
    "\n",
    "    def forward(self, x):\n",
    "        return self.vit(x)\n",
    "\n",
    "    def predict(self, x):\n",
    "        with torch.no_grad():\n",
    "          y_hat = self(x)\n",
    "          return torch.argmax(y_hat, axis=1)\n",
    "        \n",
    "    def compute_loss_and_acc(self, batch):\n",
    "        x, y = batch\n",
    "        y_hat = self(x)\n",
    "        loss = F.cross_entropy(y_hat, y)\n",
    "        acc = (torch.argmax(y_hat, axis=1) == y).sum().item() / y.shape[0]\n",
    "        return loss, acc\n",
    "    \n",
    "    def training_step(self, batch, batch_idx):\n",
    "        loss, acc = self.compute_loss_and_acc(batch)\n",
    "        self.log('loss', loss)\n",
    "        self.log('acc', acc, prog_bar=True)\n",
    "        return loss\n",
    "\n",
    "    def validation_step(self, batch, batch_idx):\n",
    "        loss, acc = self.compute_loss_and_acc(batch)\n",
    "        self.log('val_loss', loss, prog_bar=True)\n",
    "        self.log('val_acc', acc, prog_bar=True)\n",
    "\n",
    "    def configure_optimizers(self):\n",
    "        optimizer = torch.optim.Adam(self.parameters(), lr=0.0003)\n",
    "        return optimizer"
   ]
  },
  {
   "cell_type": "code",
   "execution_count": 59,
   "id": "5340a34f",
   "metadata": {},
   "outputs": [
    {
     "data": {
      "text/plain": [
       "torch.Size([64, 400])"
      ]
     },
     "execution_count": 59,
     "metadata": {},
     "output_type": "execute_result"
    }
   ],
   "source": [
    "#creamos el modelo con las imagenes\n",
    "model = Model()\n",
    "out = model(imgs)\n",
    "out.shape"
   ]
  },
  {
   "cell_type": "code",
   "execution_count": 36,
   "id": "3f508186",
   "metadata": {},
   "outputs": [
    {
     "name": "stderr",
     "output_type": "stream",
     "text": [
      "GPU available: True, used: True\n",
      "TPU available: False, using: 0 TPU cores\n",
      "IPU available: False, using: 0 IPUs\n",
      "HPU available: False, using: 0 HPUs\n",
      "C:\\Users\\eloy\\anaconda3\\lib\\site-packages\\pytorch_lightning\\callbacks\\model_checkpoint.py:611: UserWarning: Checkpoint directory C:\\Users\\eloy\\Downloads\\jupiter IA\\checkpoints exists and is not empty.\n",
      "  rank_zero_warn(f\"Checkpoint directory {dirpath} exists and is not empty.\")\n",
      "LOCAL_RANK: 0 - CUDA_VISIBLE_DEVICES: [0]\n",
      "\n",
      "  | Name | Type | Params\n",
      "------------------------------\n",
      "0 | vit  | ViT  | 763 K \n",
      "------------------------------\n",
      "763 K     Trainable params\n",
      "0         Non-trainable params\n",
      "763 K     Total params\n",
      "3.055     Total estimated model params size (MB)\n"
     ]
    },
    {
     "data": {
      "application/vnd.jupyter.widget-view+json": {
       "model_id": "",
       "version_major": 2,
       "version_minor": 0
      },
      "text/plain": [
       "Sanity Checking: 0it [00:00, ?it/s]"
      ]
     },
     "metadata": {},
     "output_type": "display_data"
    },
    {
     "name": "stderr",
     "output_type": "stream",
     "text": [
      "C:\\Users\\eloy\\anaconda3\\lib\\site-packages\\pytorch_lightning\\trainer\\connectors\\data_connector.py:240: PossibleUserWarning: The dataloader, val_dataloader 0, does not have many workers which may be a bottleneck. Consider increasing the value of the `num_workers` argument` (try 12 which is the number of cpus on this machine) in the `DataLoader` init to improve performance.\n",
      "  rank_zero_warn(\n",
      "C:\\Users\\eloy\\anaconda3\\lib\\site-packages\\pytorch_lightning\\trainer\\connectors\\data_connector.py:240: PossibleUserWarning: The dataloader, train_dataloader, does not have many workers which may be a bottleneck. Consider increasing the value of the `num_workers` argument` (try 12 which is the number of cpus on this machine) in the `DataLoader` init to improve performance.\n",
      "  rank_zero_warn(\n"
     ]
    },
    {
     "data": {
      "application/vnd.jupyter.widget-view+json": {
       "model_id": "9d505671864b4283b4004f41dfd4551b",
       "version_major": 2,
       "version_minor": 0
      },
      "text/plain": [
       "Training: 0it [00:00, ?it/s]"
      ]
     },
     "metadata": {},
     "output_type": "display_data"
    },
    {
     "data": {
      "application/vnd.jupyter.widget-view+json": {
       "model_id": "",
       "version_major": 2,
       "version_minor": 0
      },
      "text/plain": [
       "Validation: 0it [00:00, ?it/s]"
      ]
     },
     "metadata": {},
     "output_type": "display_data"
    },
    {
     "data": {
      "application/vnd.jupyter.widget-view+json": {
       "model_id": "",
       "version_major": 2,
       "version_minor": 0
      },
      "text/plain": [
       "Validation: 0it [00:00, ?it/s]"
      ]
     },
     "metadata": {},
     "output_type": "display_data"
    },
    {
     "data": {
      "application/vnd.jupyter.widget-view+json": {
       "model_id": "",
       "version_major": 2,
       "version_minor": 0
      },
      "text/plain": [
       "Validation: 0it [00:00, ?it/s]"
      ]
     },
     "metadata": {},
     "output_type": "display_data"
    },
    {
     "data": {
      "application/vnd.jupyter.widget-view+json": {
       "model_id": "",
       "version_major": 2,
       "version_minor": 0
      },
      "text/plain": [
       "Validation: 0it [00:00, ?it/s]"
      ]
     },
     "metadata": {},
     "output_type": "display_data"
    },
    {
     "data": {
      "application/vnd.jupyter.widget-view+json": {
       "model_id": "",
       "version_major": 2,
       "version_minor": 0
      },
      "text/plain": [
       "Validation: 0it [00:00, ?it/s]"
      ]
     },
     "metadata": {},
     "output_type": "display_data"
    },
    {
     "data": {
      "application/vnd.jupyter.widget-view+json": {
       "model_id": "",
       "version_major": 2,
       "version_minor": 0
      },
      "text/plain": [
       "Validation: 0it [00:00, ?it/s]"
      ]
     },
     "metadata": {},
     "output_type": "display_data"
    },
    {
     "data": {
      "application/vnd.jupyter.widget-view+json": {
       "model_id": "",
       "version_major": 2,
       "version_minor": 0
      },
      "text/plain": [
       "Validation: 0it [00:00, ?it/s]"
      ]
     },
     "metadata": {},
     "output_type": "display_data"
    },
    {
     "data": {
      "application/vnd.jupyter.widget-view+json": {
       "model_id": "",
       "version_major": 2,
       "version_minor": 0
      },
      "text/plain": [
       "Validation: 0it [00:00, ?it/s]"
      ]
     },
     "metadata": {},
     "output_type": "display_data"
    },
    {
     "data": {
      "application/vnd.jupyter.widget-view+json": {
       "model_id": "",
       "version_major": 2,
       "version_minor": 0
      },
      "text/plain": [
       "Validation: 0it [00:00, ?it/s]"
      ]
     },
     "metadata": {},
     "output_type": "display_data"
    },
    {
     "data": {
      "application/vnd.jupyter.widget-view+json": {
       "model_id": "",
       "version_major": 2,
       "version_minor": 0
      },
      "text/plain": [
       "Validation: 0it [00:00, ?it/s]"
      ]
     },
     "metadata": {},
     "output_type": "display_data"
    }
   ],
   "source": [
    "#entrenamos el modelo\n",
    "model = Model()\n",
    "trainer = pl.Trainer(max_epochs=10, gpus=1, logger=None)\n",
    "trainer.fit(model, dm)"
   ]
  },
  {
   "cell_type": "code",
   "execution_count": 37,
   "id": "2a835348",
   "metadata": {},
   "outputs": [],
   "source": [
    "#aqui guardamos el modelo solo hay que darle el path\n",
    "model_path = 'C:/Users/eloy/Downloads/jupiter ia/Vitmodelo.pth'\n",
    "torch.save(model,model_path)\n"
   ]
  },
  {
   "cell_type": "code",
   "execution_count": 60,
   "id": "1b37964d",
   "metadata": {},
   "outputs": [],
   "source": [
    "#aqui cargamos el modelo solo hay que darle el path\n",
    "model_path = 'C:/Users/eloy/Downloads/jupiter IA/Vitmodelo.pth'\n",
    "model = torch.load(model_path)"
   ]
  },
  {
   "cell_type": "code",
   "execution_count": 61,
   "id": "6e7f8409",
   "metadata": {},
   "outputs": [],
   "source": [
    "imgs, labels = next(iter(dm.val_dataloader()))\n",
    "preds = model.predict(imgs)\n"
   ]
  },
  {
   "cell_type": "code",
   "execution_count": 62,
   "id": "8d647dbb",
   "metadata": {},
   "outputs": [],
   "source": [
    "#se crea una pequeña funcion para clasificar todo los tests\n",
    "def classify(model, image_transforms, image_path, classes):\n",
    "    model = model.eval()\n",
    "    image = Image.open(image_path)\n",
    "    image = image_transforms(image).float()\n",
    "    image = image.unsqueeze(0)\n",
    "    output = model(image)\n",
    "    _, predicted = torch.max(output.data, 1)\n",
    "    return classes[predicted.item()]"
   ]
  },
  {
   "cell_type": "code",
   "execution_count": 63,
   "id": "f4eba2e3",
   "metadata": {},
   "outputs": [],
   "source": [
    "mean = [0.4704, 0.4669, 0.3898]\n",
    "std = [0.2037, 0.2002, 0.2051]\n",
    "\n",
    "image_transforms = transforms.Compose([\n",
    "                                        transforms.Resize((224,224)),\n",
    "                                        transforms.ToTensor(),\n",
    "                                        transforms.Normalize(torch.Tensor(mean), torch.Tensor(std))])"
   ]
  },
  {
   "cell_type": "code",
   "execution_count": 64,
   "id": "b1adf18d",
   "metadata": {},
   "outputs": [],
   "source": [
    "#cargamos clases con el numero de clases para utilizarlo mas tarde se pude cambiar para coger la carpeta birds\n",
    "clases_path = 'C:/Users/eloy/Downloads/pajaros2/birds/birds'\n",
    "classes = os.listdir(clases_path)"
   ]
  },
  {
   "cell_type": "code",
   "execution_count": 65,
   "id": "bb0f67fb",
   "metadata": {},
   "outputs": [
    {
     "name": "stdout",
     "output_type": "stream",
     "text": [
      "2000\n",
      "['391.jpg', '761.jpg', '1311.jpg', '1425.jpg', '1462.jpg', '1587.jpg', '3293.jpg', '3576.jpg', '4746.jpg', '5122.jpg', '6529.jpg', '7485.jpg', '8828.jpg', '9104.jpg', '9911.jpg', '9991.jpg', '10049.jpg', '11849.jpg', '12227.jpg', '12672.jpg', '12751.jpg', '12992.jpg', '13137.jpg', '13815.jpg', '14884.jpg', '14900.jpg', '15596.jpg', '16494.jpg', '16657.jpg', '17967.jpg', '18068.jpg', '18581.jpg', '18890.jpg', '20483.jpg', '20554.jpg', '20666.jpg', '21490.jpg', '24828.jpg', '25653.jpg', '27463.jpg', '28017.jpg', '28135.jpg', '28397.jpg', '29628.jpg', '30969.jpg', '34293.jpg', '35577.jpg', '35712.jpg', '38676.jpg', '39606.jpg', '39788.jpg', '40794.jpg', '43142.jpg', '44422.jpg', '45499.jpg', '46413.jpg', '48914.jpg', '52397.jpg', '52847.jpg', '53059.jpg', '56545.jpg', '57790.jpg', '60339.jpg', '61465.jpg', '61571.jpg', '61578.jpg', '62808.jpg', '64101.jpg', '66619.jpg', '67811.jpg', '71110.jpg', '71200.jpg', '71685.jpg', '71786.jpg', '72428.jpg', '72741.jpg', '73343.jpg', '74365.jpg', '74556.jpg', '75847.jpg', '76095.jpg', '77685.jpg', '79810.jpg', '80328.jpg', '80448.jpg', '82193.jpg', '87888.jpg', '88220.jpg', '89129.jpg', '89886.jpg', '90580.jpg', '91446.jpg', '93327.jpg', '93636.jpg', '94625.jpg', '95551.jpg', '95762.jpg', '97991.jpg', '98913.jpg', '99111.jpg', '101212.jpg', '101738.jpg', '102422.jpg', '102789.jpg', '103765.jpg', '106775.jpg', '109253.jpg', '109380.jpg', '111386.jpg', '112152.jpg', '112401.jpg', '112699.jpg', '112706.jpg', '112747.jpg', '113295.jpg', '115191.jpg', '115231.jpg', '115671.jpg', '116383.jpg', '117501.jpg', '119253.jpg', '119592.jpg', '120452.jpg', '121171.jpg', '122878.jpg', '124241.jpg', '125032.jpg', '126383.jpg', '127179.jpg', '128400.jpg', '129836.jpg', '130233.jpg', '130419.jpg', '134723.jpg', '135192.jpg', '135487.jpg', '138215.jpg', '139950.jpg', '140282.jpg', '140944.jpg', '143909.jpg', '146893.jpg', '146970.jpg', '147062.jpg', '147677.jpg', '148301.jpg', '149817.jpg', '151055.jpg', '151964.jpg', '152934.jpg', '153484.jpg', '154277.jpg', '154496.jpg', '157598.jpg', '157654.jpg', '158482.jpg', '159453.jpg', '159571.jpg', '159778.jpg', '160018.jpg', '160801.jpg', '160980.jpg', '161802.jpg', '162638.jpg', '162694.jpg', '165526.jpg', '165937.jpg', '166172.jpg', '167277.jpg', '167889.jpg', '168076.jpg', '168688.jpg', '170133.jpg', '170416.jpg', '171055.jpg', '173760.jpg', '175423.jpg', '175438.jpg', '175473.jpg', '175858.jpg', '175931.jpg', '176829.jpg', '177717.jpg', '177901.jpg', '179440.jpg', '181679.jpg', '182498.jpg', '182821.jpg', '183194.jpg', '184581.jpg', '186141.jpg', '188024.jpg', '188366.jpg', '188630.jpg', '188984.jpg', '189307.jpg', '191124.jpg', '191756.jpg', '192272.jpg', '193630.jpg', '196650.jpg', '198274.jpg', '198727.jpg', '199740.jpg', '200751.jpg', '201566.jpg', '202443.jpg', '207841.jpg', '210330.jpg', '211674.jpg', '211907.jpg', '212594.jpg', '214805.jpg', '216164.jpg', '219962.jpg', '221100.jpg', '222257.jpg', '224339.jpg', '226425.jpg', '228323.jpg', '230163.jpg', '231731.jpg', '234602.jpg', '235386.jpg', '239478.jpg', '241303.jpg', '241947.jpg', '245387.jpg', '245778.jpg', '246151.jpg', '246658.jpg', '248170.jpg', '248517.jpg', '248646.jpg', '250757.jpg', '251217.jpg', '251445.jpg', '258153.jpg', '261572.jpg', '261580.jpg', '261674.jpg', '263960.jpg', '264566.jpg', '270825.jpg', '271406.jpg', '281575.jpg', '283228.jpg', '289336.jpg', '292149.jpg', '293226.jpg', '295461.jpg', '297877.jpg', '299985.jpg', '301448.jpg', '308466.jpg', '311745.jpg', '315527.jpg', '316504.jpg', '321264.jpg', '322850.jpg', '324232.jpg', '327861.jpg', '327999.jpg', '328837.jpg', '331396.jpg', '331971.jpg', '334770.jpg', '334820.jpg', '335363.jpg', '337549.jpg', '342946.jpg', '343993.jpg', '345183.jpg', '346721.jpg', '351822.jpg', '358175.jpg', '359743.jpg', '361408.jpg', '365131.jpg', '367988.jpg', '371058.jpg', '376583.jpg', '381590.jpg', '382679.jpg', '385220.jpg', '385344.jpg', '385347.jpg', '385969.jpg', '389932.jpg', '391644.jpg', '396843.jpg', '401229.jpg', '401806.jpg', '401977.jpg', '404543.jpg', '412591.jpg', '413900.jpg', '417219.jpg', '418265.jpg', '418943.jpg', '421331.jpg', '423414.jpg', '426915.jpg', '428322.jpg', '429642.jpg', '429914.jpg', '430177.jpg', '430184.jpg', '431236.jpg', '431997.jpg', '434329.jpg', '437846.jpg', '445978.jpg', '449959.jpg', '450318.jpg', '451924.jpg', '453195.jpg', '454699.jpg', '454902.jpg', '456450.jpg', '458114.jpg', '458392.jpg', '471181.jpg', '475530.jpg', '475856.jpg', '475961.jpg', '477749.jpg', '478354.jpg', '478973.jpg', '480816.jpg', '481176.jpg', '481810.jpg', '482687.jpg', '485134.jpg', '486125.jpg', '487382.jpg', '487769.jpg', '492399.jpg', '493320.jpg', '495260.jpg', '501569.jpg', '501778.jpg', '502570.jpg', '507280.jpg', '510952.jpg', '511722.jpg', '513545.jpg', '521166.jpg', '521892.jpg', '523929.jpg', '524754.jpg', '527217.jpg', '529268.jpg', '529321.jpg', '529371.jpg', '530261.jpg', '531636.jpg', '531835.jpg', '539480.jpg', '542958.jpg', '543123.jpg', '544457.jpg', '553983.jpg', '558272.jpg', '561790.jpg', '563944.jpg', '570675.jpg', '571020.jpg', '571151.jpg', '571213.jpg', '572742.jpg', '574806.jpg', '575838.jpg', '577192.jpg', '577524.jpg', '579998.jpg', '580775.jpg', '582444.jpg', '582804.jpg', '586618.jpg', '591980.jpg', '598891.jpg', '601718.jpg', '601753.jpg', '601964.jpg', '605996.jpg', '606436.jpg', '607332.jpg', '607627.jpg', '611202.jpg', '618803.jpg', '620252.jpg', '621484.jpg', '621611.jpg', '624455.jpg', '625949.jpg', '630516.jpg', '631862.jpg', '631945.jpg', '633201.jpg', '633785.jpg', '635230.jpg', '636147.jpg', '638142.jpg', '642426.jpg', '644768.jpg', '647285.jpg', '647350.jpg', '647454.jpg', '654827.jpg', '654859.jpg', '655158.jpg', '655297.jpg', '661378.jpg', '661388.jpg', '662708.jpg', '662793.jpg', '663271.jpg', '666882.jpg', '670931.jpg', '671601.jpg', '675830.jpg', '683813.jpg', '689284.jpg', '690519.jpg', '692427.jpg', '696492.jpg', '699564.jpg', '700511.jpg', '705190.jpg', '707955.jpg', '711572.jpg', '712590.jpg', '712673.jpg', '712916.jpg', '713144.jpg', '714135.jpg', '716568.jpg', '718282.jpg', '721266.jpg', '724341.jpg', '727412.jpg', '727948.jpg', '729351.jpg', '731297.jpg', '731555.jpg', '732245.jpg', '734880.jpg', '736352.jpg', '738937.jpg', '739289.jpg', '740735.jpg', '741102.jpg', '742324.jpg', '742776.jpg', '746917.jpg', '747518.jpg', '749185.jpg', '751654.jpg', '752881.jpg', '755556.jpg', '762796.jpg', '763936.jpg', '768655.jpg', '770807.jpg', '771394.jpg', '771957.jpg', '773938.jpg', '774573.jpg', '774852.jpg', '779562.jpg', '782404.jpg', '782515.jpg', '782854.jpg', '786860.jpg', '791777.jpg', '791824.jpg', '791974.jpg', '796288.jpg', '799355.jpg', '799486.jpg', '801497.jpg', '802211.jpg', '804523.jpg', '805711.jpg', '809836.jpg', '816759.jpg', '816995.jpg', '817668.jpg', '818365.jpg', '818423.jpg', '821764.jpg', '822474.jpg', '824579.jpg', '825507.jpg', '834309.jpg', '839990.jpg', '841601.jpg', '842292.jpg', '853291.jpg', '857971.jpg', '859112.jpg', '863315.jpg', '863941.jpg', '867105.jpg', '867441.jpg', '867585.jpg', '869287.jpg', '871393.jpg', '871617.jpg', '873445.jpg', '874773.jpg', '878248.jpg', '878934.jpg', '879582.jpg', '879693.jpg', '880157.jpg', '883437.jpg', '883746.jpg', '883784.jpg', '887635.jpg', '891130.jpg', '891317.jpg', '894514.jpg', '894588.jpg', '897431.jpg', '904695.jpg', '907169.jpg', '908353.jpg', '908697.jpg', '910896.jpg', '914953.jpg', '918251.jpg', '918512.jpg', '920120.jpg', '920331.jpg', '921298.jpg', '924337.jpg', '925208.jpg', '925398.jpg', '926734.jpg', '927720.jpg', '932919.jpg', '933233.jpg', '934171.jpg', '936180.jpg', '940463.jpg', '940845.jpg', '941626.jpg', '942615.jpg', '947119.jpg', '950584.jpg', '951238.jpg', '958127.jpg', '958712.jpg', '959536.jpg', '961621.jpg', '968129.jpg', '971858.jpg', '972629.jpg', '972682.jpg', '975403.jpg', '976560.jpg', '981642.jpg', '982657.jpg', '986574.jpg', '987216.jpg', '988544.jpg', '989502.jpg', '991927.jpg', '993631.jpg', '994730.jpg', '997744.jpg', '997994.jpg', '998207.jpg', '999408.jpg', '1002913.jpg', '1003410.jpg', '1003513.jpg', '1003772.jpg', '1007716.jpg', '1007758.jpg', '1009818.jpg', '1013471.jpg', '1018542.jpg', '1019567.jpg', '1021614.jpg', '1025537.jpg', '1026308.jpg', '1028438.jpg', '1029340.jpg', '1029726.jpg', '1030605.jpg', '1033986.jpg', '1036189.jpg', '1041364.jpg', '1041633.jpg', '1041643.jpg', '1042198.jpg', '1043610.jpg', '1049136.jpg', '1050525.jpg', '1052505.jpg', '1053421.jpg', '1055538.jpg', '1056933.jpg', '1058356.jpg', '1059904.jpg', '1061363.jpg', '1063609.jpg', '1063684.jpg', '1066435.jpg', '1067117.jpg', '1067597.jpg', '1071296.jpg', '1071587.jpg', '1073612.jpg', '1076714.jpg', '1079565.jpg', '1079874.jpg', '1081493.jpg', '1084270.jpg', '1092325.jpg', '1092361.jpg', '1093616.jpg', '1093781.jpg', '1094258.jpg', '1096479.jpg', '1099871.jpg', '1100286.jpg', '1101550.jpg', '1103402.jpg', '1106174.jpg', '1108224.jpg', '1111281.jpg', '1122148.jpg', '1122276.jpg', '1122467.jpg', '1123411.jpg', '1124833.jpg', '1128240.jpg', '1129741.jpg', '1130470.jpg', '1131474.jpg', '1133424.jpg', '1133920.jpg', '1134552.jpg', '1135604.jpg', '1136661.jpg', '1139168.jpg', '1140113.jpg', '1143976.jpg', '1144417.jpg', '1146269.jpg', '1148138.jpg', '1151692.jpg', '1152225.jpg', '1156137.jpg', '1156546.jpg', '1159165.jpg', '1160541.jpg', '1161146.jpg', '1162473.jpg', '1167989.jpg', '1170691.jpg', '1173698.jpg', '1177442.jpg', '1181254.jpg', '1184495.jpg', '1185799.jpg', '1189416.jpg', '1191385.jpg', '1191851.jpg', '1194555.jpg', '1198531.jpg', '1200409.jpg', '1203870.jpg', '1206155.jpg', '1206338.jpg', '1211500.jpg', '1212954.jpg', '1217145.jpg', '1217373.jpg', '1220160.jpg', '1221689.jpg', '1222104.jpg', '1228415.jpg', '1230429.jpg', '1231001.jpg', '1231401.jpg', '1231700.jpg', '1231906.jpg', '1232481.jpg', '1233532.jpg', '1240760.jpg', '1241507.jpg', '1250256.jpg', '1251622.jpg', '1252767.jpg', '1256167.jpg', '1258368.jpg', '1258611.jpg', '1259652.jpg', '1260390.jpg', '1261435.jpg', '1264393.jpg', '1269561.jpg', '1270898.jpg', '1272879.jpg', '1273196.jpg', '1274166.jpg', '1274381.jpg', '1275607.jpg', '1275680.jpg', '1278508.jpg', '1279283.jpg', '1279732.jpg', '1279951.jpg', '1282358.jpg', '1283327.jpg', '1290210.jpg', '1291876.jpg', '1298203.jpg', '1301384.jpg', '1301834.jpg', '1303132.jpg', '1303476.jpg', '1304140.jpg', '1305907.jpg', '1306737.jpg', '1307304.jpg', '1310243.jpg', '1331774.jpg', '1333162.jpg', '1341496.jpg', '1345218.jpg', '1346156.jpg', '1347779.jpg', '1348656.jpg', '1360186.jpg', '1362619.jpg', '1363659.jpg', '1365715.jpg', '1371259.jpg', '1376102.jpg', '1376553.jpg', '1378451.jpg', '1378736.jpg', '1381612.jpg', '1386342.jpg', '1386771.jpg', '1390791.jpg', '1390800.jpg', '1392613.jpg', '1393246.jpg', '1393705.jpg', '1398493.jpg', '1399317.jpg', '1405593.jpg', '1409780.jpg', '1409834.jpg', '1418312.jpg', '1421108.jpg', '1421703.jpg', '1422432.jpg', '1423204.jpg', '1426603.jpg', '1428908.jpg', '1431107.jpg', '1432719.jpg', '1437823.jpg', '1441156.jpg', '1441256.jpg', '1441945.jpg', '1442302.jpg', '1444430.jpg', '1446970.jpg', '1447106.jpg', '1451321.jpg', '1452624.jpg', '1453782.jpg', '1454832.jpg', '1456596.jpg', '1456788.jpg', '1460814.jpg', '1460855.jpg', '1461710.jpg', '1461739.jpg', '1461937.jpg', '1462250.jpg', '1463826.jpg', '1464197.jpg', '1470128.jpg', '1470199.jpg', '1470539.jpg', '1471472.jpg', '1471685.jpg', '1472802.jpg', '1473221.jpg', '1473733.jpg', '1473894.jpg', '1473923.jpg', '1476375.jpg', '1477867.jpg', '1478600.jpg', '1479346.jpg', '1479930.jpg', '1480345.jpg', '1481234.jpg', '1489725.jpg', '1491348.jpg', '1492362.jpg', '1495159.jpg', '1496745.jpg', '1498533.jpg', '1500374.jpg', '1501388.jpg', '1503377.jpg', '1503872.jpg', '1505534.jpg', '1506926.jpg', '1507528.jpg', '1507622.jpg', '1509316.jpg', '1510335.jpg', '1510681.jpg', '1511194.jpg', '1513558.jpg', '1515868.jpg', '1518103.jpg', '1520669.jpg', '1521244.jpg', '1521925.jpg', '1522724.jpg', '1525118.jpg', '1527924.jpg', '1528173.jpg', '1531862.jpg', '1534267.jpg', '1534418.jpg', '1537632.jpg', '1542903.jpg', '1544722.jpg', '1551311.jpg', '1552460.jpg', '1553274.jpg', '1553792.jpg', '1554899.jpg', '1556623.jpg', '1561542.jpg', '1561997.jpg', '1562115.jpg', '1562176.jpg', '1564621.jpg', '1565206.jpg', '1568535.jpg', '1571559.jpg', '1574608.jpg', '1577766.jpg', '1581440.jpg', '1581965.jpg', '1583360.jpg', '1583666.jpg', '1583809.jpg', '1587255.jpg', '1588763.jpg', '1591529.jpg', '1591570.jpg', '1591645.jpg', '1593797.jpg', '1594981.jpg', '1595665.jpg', '1597540.jpg', '1598326.jpg', '1602370.jpg', '1603485.jpg', '1607121.jpg', '1608369.jpg', '1611928.jpg', '1620812.jpg', '1622819.jpg', '1623853.jpg', '1625143.jpg', '1626750.jpg', '1627777.jpg', '1629897.jpg', '1630263.jpg', '1630385.jpg', '1631296.jpg', '1631822.jpg', '1635662.jpg', '1637789.jpg', '1639883.jpg', '1641424.jpg', '1641813.jpg', '1644395.jpg', '1649477.jpg', '1650209.jpg', '1650683.jpg', '1654367.jpg', '1656522.jpg', '1657306.jpg', '1659314.jpg', '1659864.jpg', '1661940.jpg', '1663844.jpg', '1666521.jpg', '1670987.jpg', '1671852.jpg', '1673831.jpg', '1675935.jpg', '1676651.jpg', '1680420.jpg', '1681359.jpg', '1681464.jpg', '1681486.jpg', '1684783.jpg', '1687222.jpg', '1690179.jpg', '1691639.jpg', '1691755.jpg', '1696589.jpg', '1697433.jpg', '1698982.jpg', '1701641.jpg', '1704839.jpg', '1706821.jpg', '1709110.jpg', '1716278.jpg', '1718918.jpg', '1719887.jpg', '1725912.jpg', '1726634.jpg', '1730489.jpg', '1731262.jpg', '1731683.jpg', '1736447.jpg', '1738237.jpg', '1738686.jpg', '1739139.jpg', '1740678.jpg', '1743848.jpg', '1745974.jpg', '1746979.jpg', '1750313.jpg', '1754548.jpg', '1755922.jpg', '1757275.jpg', '1757966.jpg', '1758729.jpg', '1759640.jpg', '1761459.jpg', '1761744.jpg', '1762223.jpg', '1762266.jpg', '1763628.jpg', '1763968.jpg', '1765214.jpg', '1767182.jpg', '1769205.jpg', '1771141.jpg', '1771310.jpg', '1773510.jpg', '1774713.jpg', '1779299.jpg', '1782885.jpg', '1784942.jpg', '1785664.jpg', '1786637.jpg', '1788761.jpg', '1791879.jpg', '1793238.jpg', '1793520.jpg', '1794379.jpg', '1794863.jpg', '1795798.jpg', '1796152.jpg', '1799290.jpg', '1800161.jpg', '1801458.jpg', '1804491.jpg', '1807895.jpg', '1810704.jpg', '1810709.jpg', '1811464.jpg', '1814116.jpg', '1816787.jpg', '1819249.jpg', '1819595.jpg', '1820389.jpg', '1820866.jpg', '1822842.jpg', '1826956.jpg', '1828475.jpg', '1830187.jpg', '1836273.jpg', '1836707.jpg', '1837108.jpg', '1838126.jpg', '1838620.jpg', '1839660.jpg', '1839752.jpg', '1842456.jpg', '1843701.jpg', '1844869.jpg', '1845319.jpg', '1848563.jpg', '1849434.jpg', '1851459.jpg', '1852509.jpg', '1852873.jpg', '1857840.jpg', '1860547.jpg', '1861279.jpg', '1861371.jpg', '1861449.jpg', '1869239.jpg', '1869488.jpg', '1869728.jpg', '1871276.jpg', '1872188.jpg', '1872690.jpg', '1874667.jpg', '1876647.jpg', '1877795.jpg', '1879178.jpg', '1882967.jpg', '1890348.jpg', '1891109.jpg', '1891702.jpg', '1894498.jpg', '1899529.jpg', '1899696.jpg', '1903242.jpg', '1909349.jpg', '1911305.jpg', '1918469.jpg', '1921939.jpg', '1922294.jpg', '1922526.jpg', '1926357.jpg', '1926458.jpg', '1926663.jpg', '1926950.jpg', '1927670.jpg', '1930405.jpg', '1930972.jpg', '1930975.jpg', '1931164.jpg', '1932586.jpg', '1934992.jpg', '1937648.jpg', '1939857.jpg', '1941247.jpg', '1942244.jpg', '1943963.jpg', '1945468.jpg', '1949300.jpg', '1949506.jpg', '1951690.jpg', '1953554.jpg', '1957333.jpg', '1958858.jpg', '1962503.jpg', '1963875.jpg', '1964235.jpg', '1964439.jpg', '1965893.jpg', '1968343.jpg', '1971372.jpg', '1971786.jpg', '1972557.jpg', '1974215.jpg', '1976391.jpg', '1977865.jpg', '1978334.jpg', '1981739.jpg', '1984407.jpg', '1986649.jpg', '1989154.jpg', '1989921.jpg', '1991045.jpg', '1991686.jpg', '1993905.jpg', '1995150.jpg', '1996748.jpg', '1996910.jpg', '1997599.jpg', '1997702.jpg', '1999376.jpg', '2021064.jpg', '2041468.jpg', '2051712.jpg', '2061488.jpg', '2071738.jpg', '2101070.jpg', '2101334.jpg', '2111218.jpg', '2121598.jpg', '2121885.jpg', '2121915.jpg', '2151292.jpg', '2151528.jpg', '2151557.jpg', '2211505.jpg', '2221216.jpg', '2261373.jpg', '2261742.jpg', '2271770.jpg', '2291359.jpg', '2291640.jpg', '2301957.jpg', '2331817.jpg', '2361223.jpg', '2361461.jpg', '2371585.jpg', '2401053.jpg', '2441839.jpg', '2461270.jpg', '2471248.jpg', '2471732.jpg', '2491280.jpg', '2511940.jpg', '2551883.jpg', '2561853.jpg', '2591430.jpg', '2711150.jpg', '2741135.jpg', '2741824.jpg', '2751127.jpg', '2761323.jpg', '2781153.jpg', '2791434.jpg', '2801918.jpg', '2811682.jpg', '2811780.jpg', '2821816.jpg', '2841818.jpg', '2841894.jpg', '2861220.jpg', '2951015.jpg', '2971996.jpg', '3021562.jpg', '3081699.jpg', '3121677.jpg', '3171076.jpg', '3211013.jpg', '3211036.jpg', '3281286.jpg', '3291511.jpg', '3301072.jpg', '3301300.jpg', '3331271.jpg', '3341977.jpg', '3351236.jpg', '3391900.jpg', '3421180.jpg', '3471929.jpg', '3491625.jpg', '3501703.jpg', '3531209.jpg', '3531453.jpg', '3541800.jpg', '3581904.jpg', '3601275.jpg', '3611263.jpg', '3611768.jpg', '3641221.jpg', '3711173.jpg', '3721673.jpg', '3731804.jpg', '3741620.jpg', '3781553.jpg', '3811369.jpg', '3851060.jpg', '3851491.jpg', '3871847.jpg', '3921930.jpg', '3931472.jpg', '3931827.jpg', '3941246.jpg', '3951289.jpg', '3971258.jpg', '4061149.jpg', '4101092.jpg', '4141662.jpg', '4151832.jpg', '4181518.jpg', '4191720.jpg', '4201736.jpg', '4241004.jpg', '4251120.jpg', '4251988.jpg', '4281471.jpg', '4341480.jpg', '4341837.jpg', '4361881.jpg', '4401481.jpg', '4401577.jpg', '4411984.jpg', '4411998.jpg', '4431057.jpg', '4431655.jpg', '4441159.jpg', '4471762.jpg', '4561799.jpg', '4591659.jpg', '4611337.jpg', '4631543.jpg', '4641749.jpg', '4671426.jpg', '4691043.jpg', '4721812.jpg', '4741716.jpg', '4741835.jpg', '4791339.jpg', '4801155.jpg', '4821552.jpg', '4851747.jpg', '4921786.jpg', '4931028.jpg', '4951420.jpg', '4961335.jpg', '4981753.jpg', '4991439.jpg', '5011418.jpg', '5011556.jpg', '5021158.jpg', '5071735.jpg', '5071922.jpg', '5111565.jpg', '5121497.jpg', '5171763.jpg', '5181831.jpg', '5191100.jpg', '5191527.jpg', '5201963.jpg', '5211828.jpg', '5231041.jpg', '5261203.jpg', '5261956.jpg', '5271938.jpg', '5311413.jpg', '5311668.jpg', '5321844.jpg', '5361563.jpg', '5371755.jpg', '5411008.jpg', '5431049.jpg', '5481766.jpg', '5491546.jpg', '5521033.jpg', '5531205.jpg', '5541524.jpg', '5591147.jpg', '5601628.jpg', '5601760.jpg', '5611551.jpg', '5631124.jpg', '5641619.jpg', '5681638.jpg', '5691329.jpg', '5691893.jpg', '5701726.jpg', '5711046.jpg', '5721355.jpg', '5721921.jpg', '5751438.jpg', '5771294.jpg', '5791154.jpg', '5831012.jpg', '5851891.jpg', '5851999.jpg', '5861981.jpg', '5871729.jpg', '5881425.jpg', '5901177.jpg', '5961985.jpg', '5971759.jpg', '6011905.jpg', '6041492.jpg', '6051051.jpg', '6091210.jpg', '6101374.jpg', '6161582.jpg', '6171340.jpg', '6201976.jpg', '6241618.jpg', '6291128.jpg', '6291192.jpg', '6301569.jpg', '6301917.jpg', '6321574.jpg', '6331179.jpg', '6351245.jpg', '6351473.jpg', '6381498.jpg', '6391110.jpg', '6401485.jpg', '6431588.jpg', '6441259.jpg', '6521098.jpg', '6521228.jpg', '6531168.jpg', '6531748.jpg', '6581688.jpg', '6591796.jpg', '6611927.jpg', '6651157.jpg', '6651547.jpg', '6681532.jpg', '6701117.jpg', '6701564.jpg', '6721212.jpg', '6731068.jpg', '6741819.jpg', '6741973.jpg', '6751962.jpg', '6761023.jpg', '6801843.jpg', '6841758.jpg', '6861175.jpg', '6861741.jpg', '6871692.jpg', '6871695.jpg', '6931016.jpg', '6971261.jpg', '6991681.jpg', '7011364.jpg', '7021567.jpg', '7081680.jpg', '7111319.jpg', '7141846.jpg', '7151241.jpg', '7151597.jpg', '7151855.jpg', '7171018.jpg', '7171644.jpg', '7181419.jpg', '7201721.jpg', '7211010.jpg', '7221602.jpg', '7231031.jpg', '7231717.jpg', '7251409.jpg', '7251689.jpg', '7281656.jpg', '7291402.jpg', '7301630.jpg', '7311084.jpg', '7321030.jpg', '7321757.jpg', '7341088.jpg', '7351554.jpg', '7361207.jpg', '7401044.jpg', '7401489.jpg', '7411639.jpg', '7431358.jpg', '7441467.jpg', '7451503.jpg', '7471094.jpg', '7471840.jpg', '7491311.jpg', '7561711.jpg', '7591109.jpg', '7591404.jpg', '7691324.jpg', '7731450.jpg', '7731693.jpg', '7751785.jpg', '7781504.jpg', '7781842.jpg', '7841447.jpg', '7851479.jpg', '7861356.jpg', '7861396.jpg', '7881392.jpg', '7891378.jpg', '7911916.jpg', '7921082.jpg', '7921906.jpg', '7941027.jpg', '7981233.jpg', '8001065.jpg', '8001231.jpg', '8021226.jpg', '8031234.jpg', '8051399.jpg', '8071983.jpg', '8101809.jpg', '8131523.jpg', '8131606.jpg', '8201623.jpg', '8211161.jpg', '8241291.jpg', '8251376.jpg', '8271422.jpg', '8281293.jpg', '8301059.jpg', '8321678.jpg', '8331138.jpg', '8341365.jpg', '8361908.jpg', '8371167.jpg', '8421211.jpg', '8421278.jpg', '8421944.jpg', '8441197.jpg', '8441627.jpg', '8481145.jpg', '8481411.jpg', '8531312.jpg', '8561077.jpg', '8621063.jpg', '8631225.jpg', '8641558.jpg', '8651067.jpg', '8671313.jpg', '8701718.jpg', '8741412.jpg', '8811833.jpg', '8821995.jpg', '8841522.jpg', '8861351.jpg', '8871116.jpg', '8881239.jpg', '8911009.jpg', '8931073.jpg', '8931353.jpg', '8951421.jpg', '8961767.jpg', '8971519.jpg', '8981227.jpg', '9001696.jpg', '9021967.jpg', '9021987.jpg', '9041652.jpg', '9101724.jpg', '9111646.jpg', '9111707.jpg', '9111884.jpg', '9141457.jpg', '9151299.jpg', '9181366.jpg', '9191188.jpg', '9211039.jpg', '9221992.jpg', '9231886.jpg', '9241022.jpg', '9251181.jpg', '9261283.jpg', '9281499.jpg', '9321096.jpg', '9321267.jpg', '9321794.jpg', '9341194.jpg', '9381882.jpg', '9391579.jpg', '9431752.jpg', '9441397.jpg', '9481951.jpg', '9491869.jpg', '9511669.jpg', '9521086.jpg', '9521830.jpg', '9531866.jpg', '9541634.jpg', '9541889.jpg', '9541931.jpg', '9561811.jpg', '9611743.jpg', '9611776.jpg', '9651863.jpg', '9661326.jpg', '9691769.jpg', '9721537.jpg', '9721888.jpg', '9731347.jpg', '9751091.jpg', '9831710.jpg', '9851647.jpg', '9901146.jpg', '9911333.jpg', '9911460.jpg', '9921826.jpg', '9931903.jpg', '9961395.jpg', '10001367.jpg', '10011345.jpg', '10021061.jpg', '10041854.jpg', '10081125.jpg', '10111097.jpg', '10121591.jpg', '10141670.jpg', '10151201.jpg', '10171697.jpg', '10211583.jpg', '10241391.jpg', '10261025.jpg', '10301798.jpg', '10321463.jpg', '10361947.jpg', '10371462.jpg', '10411320.jpg', '10411836.jpg', '10411902.jpg', '10451857.jpg', '10461892.jpg', '10471444.jpg', '10471919.jpg', '10481559.jpg', '10481872.jpg', '10491101.jpg', '10511131.jpg', '10511867.jpg', '10511953.jpg', '10591390.jpg', '10611360.jpg', '10671825.jpg', '10681219.jpg', '10701105.jpg', '10701969.jpg', '10711111.jpg', '10771664.jpg', '10791085.jpg', '10821637.jpg', '10871093.jpg', '10871095.jpg', '10891943.jpg', '10911186.jpg', '10911979.jpg', '10931484.jpg', '10961466.jpg', '10981592.jpg', '11001788.jpg', '11031273.jpg', '11041560.jpg', '11071215.jpg', '11111253.jpg', '11121671.jpg', '11131774.jpg', '11141571.jpg', '11151354.jpg', '11151545.jpg', '11181306.jpg', '11221014.jpg', '11221456.jpg', '11221477.jpg', '11221932.jpg', '11231384.jpg', '11231771.jpg', '11251314.jpg', '11261502.jpg', '11261960.jpg', '11291676.jpg', '11311751.jpg', '11331414.jpg', '11341342.jpg', '11361896.jpg', '11401914.jpg', '11411899.jpg', '11421195.jpg', '11451793.jpg', '11501746.jpg', '11541005.jpg', '11551398.jpg', '11571533.jpg', '11571599.jpg', '11571959.jpg', '11581975.jpg', '11591936.jpg', '11601512.jpg', '11631229.jpg', '11711737.jpg', '11731349.jpg', '11731661.jpg', '11741544.jpg', '11821792.jpg', '11831704.jpg', '11891165.jpg', '11891725.jpg', '11891964.jpg', '11901561.jpg', '11921121.jpg', '11941255.jpg', '11941272.jpg', '11941452.jpg', '12011539.jpg', '12041820.jpg', '12051357.jpg', '12051949.jpg', '12081075.jpg', '12111454.jpg', '12161336.jpg', '12191024.jpg', '12191274.jpg', '12201805.jpg', '12211247.jpg', '12211980.jpg', '12281575.jpg', '12291624.jpg', '12311187.jpg', '12311731.jpg', '12311750.jpg', '12321607.jpg', '12341433.jpg', '12341645.jpg', '12371705.jpg', '12371961.jpg', '12431441.jpg', '12431587.jpg', '12481047.jpg', '12491130.jpg', '12521548.jpg', '12561910.jpg', '12571860.jpg', '12581948.jpg', '12581994.jpg', '12601410.jpg', '12641019.jpg', '12681823.jpg', '12701232.jpg', '12711848.jpg', '12721616.jpg', '12741605.jpg', '12741701.jpg', '12751629.jpg', '12761142.jpg', '12761380.jpg', '12761483.jpg', '12771952.jpg', '12791436.jpg', '12801379.jpg', '12811006.jpg', '12861859.jpg', '12871641.jpg', '12871694.jpg', '12981394.jpg', '13021370.jpg', '13041372.jpg', '13061714.jpg', '13081114.jpg', '13111309.jpg', '13121740.jpg', '13141303.jpg', '13141482.jpg', '13151423.jpg', '13181589.jpg', '13231429.jpg', '13261687.jpg', '13271090.jpg', '13281494.jpg', '13291550.jpg', '13311021.jpg', '13321325.jpg', '13341675.jpg', '13351600.jpg', '13371966.jpg', '13391198.jpg', '13401415.jpg', '13471928.jpg', '13521174.jpg', '13541029.jpg', '13561007.jpg', '13571535.jpg', '13571814.jpg', '13601578.jpg', '13631958.jpg', '13651594.jpg', '13701213.jpg', '13701911.jpg', '13721302.jpg', '13721368.jpg', '13731432.jpg', '13731665.jpg', '13741534.jpg', '13741727.jpg', '13761490.jpg', '13771136.jpg', '13781003.jpg', '13791304.jpg', '13801224.jpg', '13801362.jpg', '13801991.jpg', '13821791.jpg', '13841282.jpg', '13841536.jpg', '13851352.jpg', '13871170.jpg', '13881308.jpg', '13881897.jpg', '13891048.jpg', '13891257.jpg', '13891343.jpg', '13891649.jpg', '13941250.jpg', '13971614.jpg', '14011050.jpg', '14021521.jpg', '14031530.jpg', '14071782.jpg', '14121405.jpg', '14121700.jpg', '14131933.jpg', '14151144.jpg', '14161417.jpg', '14181446.jpg', '14181779.jpg', '14231185.jpg', '14231254.jpg', '14261972.jpg', '14271140.jpg', '14271344.jpg', '14301310.jpg', '14301476.jpg', '14321470.jpg', '14331206.jpg', '14331935.jpg', '14361608.jpg', '14381148.jpg', '14401056.jpg', '14401495.jpg', '14431986.jpg', '14441069.jpg', '14441609.jpg', '14461437.jpg', '14541040.jpg', '14541650.jpg', '14551520.jpg', '14551596.jpg', '14561182.jpg', '14571298.jpg', '14571764.jpg', '14571874.jpg', '14581222.jpg', '14581295.jpg', '14611034.jpg', '14631989.jpg', '14651871.jpg', '14661285.jpg', '14671709.jpg', '14671761.jpg', '14691184.jpg', '14691449.jpg', '14721667.jpg', '14751506.jpg', '14761318.jpg', '14791264.jpg', '14871633.jpg', '14891249.jpg', '14891268.jpg', '14951660.jpg', '14981584.jpg', '15001581.jpg', '15011626.jpg', '15011657.jpg', '15081143.jpg', '15081784.jpg', '15081789.jpg', '15101078.jpg', '15101865.jpg', '15121895.jpg', '15131305.jpg', '15151754.jpg', '15171375.jpg', '15181912.jpg', '15231475.jpg', '15241901.jpg', '15331876.jpg', '15411235.jpg', '15421081.jpg', '15431122.jpg', '15441440.jpg', '15461631.jpg', '15461733.jpg', '15471775.jpg', '15481315.jpg', '15491838.jpg', '15491970.jpg', '15501541.jpg', '15521643.jpg', '15541593.jpg', '15581062.jpg', '15581183.jpg', '15581517.jpg', '15611510.jpg', '15641808.jpg', '15641946.jpg', '15681615.jpg', '15701079.jpg', '15761190.jpg', '15761514.jpg', '15761990.jpg', '15801442.jpg', '15811080.jpg', '15811112.jpg', '15811877.jpg', '15841269.jpg', '15841427.jpg', '15841730.jpg', '15851610.jpg', '15881035.jpg', '15961387.jpg', '15991115.jpg', '16021875.jpg', '16031723.jpg', '16041850.jpg', '16061635.jpg', '16071939.jpg', '16081898.jpg', '16091265.jpg', '16101341.jpg', '16121126.jpg', '16121451.jpg', '16161416.jpg', '16181613.jpg', '16191054.jpg', '16191801.jpg', '16201713.jpg', '16211821.jpg', '16221037.jpg', '16301851.jpg', '16311346.jpg', '16331719.jpg', '16371573.jpg', '16411214.jpg', '16431301.jpg', '16451954.jpg', '16471118.jpg', '16521632.jpg', '16531666.jpg', '16561993.jpg', '16571103.jpg', '16601204.jpg', '16611708.jpg', '16621230.jpg', '16621316.jpg', '16621443.jpg', '16631071.jpg', '16631133.jpg', '16641756.jpg', '16661586.jpg', '16661920.jpg', '16671134.jpg', '16671350.jpg', '16691501.jpg', '16711500.jpg', '16761074.jpg', '16771407.jpg', '16781260.jpg', '16781389.jpg', '16781955.jpg', '16791172.jpg', '16821455.jpg', '16831968.jpg', '16851152.jpg', '16871525.jpg', '16921038.jpg', '16951119.jpg', '16961361.jpg', '16971137.jpg', '16991787.jpg', '17001406.jpg', '17011052.jpg', '17011942.jpg', '17021328.jpg', '17051106.jpg', '17061403.jpg', '17061982.jpg', '17081617.jpg', '17081934.jpg', '17091381.jpg', '17111715.jpg', '17121513.jpg', '17141538.jpg', '17171568.jpg', '17211189.jpg', '17231856.jpg', '17261925.jpg', '17271332.jpg', '17281549.jpg', '17301890.jpg', '17311487.jpg', '17321515.jpg', '17371193.jpg', '17371603.jpg', '17381066.jpg', '17431428.jpg', '17461208.jpg', '17461868.jpg', '17471651.jpg', '17471926.jpg', '17531163.jpg', '17541576.jpg', '17621284.jpg', '17651327.jpg', '17741262.jpg', '17761383.jpg', '17771032.jpg', '17781795.jpg', '17791672.jpg', '17801104.jpg', '17821132.jpg', '17831202.jpg', '17841281.jpg', '17881516.jpg', '17901658.jpg', '17921595.jpg', '17961089.jpg', '17971338.jpg', '17981781.jpg', '17991237.jpg', '18011199.jpg', '18011706.jpg', '18021765.jpg', '18031648.jpg', '18031653.jpg', '18061279.jpg', '18071191.jpg', '18071243.jpg', '18071772.jpg', '18081861.jpg', '18121691.jpg', '18191307.jpg', '18211087.jpg', '18211400.jpg', '18211913.jpg', '18211941.jpg', '18251448.jpg', '18251773.jpg', '18321849.jpg', '18361526.jpg', '18431728.jpg', '18521011.jpg', '18531083.jpg', '18551465.jpg', '18581870.jpg', '18621469.jpg', '18641287.jpg', '18641803.jpg', '18711026.jpg', '18711290.jpg', '18741909.jpg', '18791978.jpg', '18801169.jpg', '18831288.jpg', '18851878.jpg', '18871178.jpg', '18881478.jpg', '18941042.jpg', '18941531.jpg', '19041240.jpg', '19041734.jpg', '19071887.jpg', '19081807.jpg', '19101829.jpg', '19111873.jpg', '19161196.jpg', '19191663.jpg', '19201162.jpg', '19231509.jpg', '19251604.jpg', '19301322.jpg', '19301698.jpg', '19301950.jpg', '19311099.jpg', '19311277.jpg', '19341129.jpg', '19341880.jpg', '19431797.jpg', '19441242.jpg', '19481017.jpg', '19501496.jpg', '19511790.jpg', '19531382.jpg', '19571508.jpg', '19581160.jpg', '19581845.jpg', '19651330.jpg', '19681841.jpg', '19681864.jpg', '19691815.jpg', '19721002.jpg', '19761123.jpg', '19781000.jpg', '19781252.jpg', '19781377.jpg', '19841783.jpg', '19851431.jpg', '19891540.jpg', '19931107.jpg', '19931684.jpg', '19951113.jpg', '19951251.jpg', '19961923.jpg', '19981965.jpg', '19991139.jpg', '19991200.jpg']\n"
     ]
    }
   ],
   "source": [
    "#se crea una lista de las imagenes de los tests que utilizamos\n",
    "#cambiar el path si es necesario utilizar otros tests\n",
    "tests_path = 'C:/Users/eloy/Downloads/pajaros2/submission_test/submission_test'\n",
    "a = os.listdir(tests_path)\n",
    "print(len(a))\n",
    "a.sort(key=len)\n",
    "print(a)"
   ]
  },
  {
   "cell_type": "code",
   "execution_count": 66,
   "id": "81e89b41",
   "metadata": {},
   "outputs": [
    {
     "name": "stdout",
     "output_type": "stream",
     "text": [
      "Id , Category\n"
     ]
    }
   ],
   "source": [
    "import pandas as pd\n",
    "import numpy as np\n",
    "x = 'Id , Category'\n",
    "lista_Indice=[]\n",
    "lista_Category=[]\n",
    "tests2_path = 'C:/Users/eloy/Downloads/pajaros2/submission_test/submission_test/'\n",
    "print(x)\n",
    "for i in a:\n",
    "    l = i.split('.')[0]\n",
    "    lista_Indice.append(l)\n",
    "    lista_Category.append(classify(model, image_transforms, tests2_path+i ,classes))\n",
    "\n"
   ]
  },
  {
   "cell_type": "code",
   "execution_count": 67,
   "id": "932f2edf",
   "metadata": {},
   "outputs": [
    {
     "name": "stdout",
     "output_type": "stream",
     "text": [
      "[['391' '761' '1311' ... '19981965' '19991139' '19991200']\n",
      " ['GREAT KISKADEE' 'AMERICAN AVOCET' 'PARAKETT  AKULET' ...\n",
      "  'WHITE THROATED BEE EATER' 'IBERIAN MAGPIE' 'JANDAYA PARAKEET']]\n"
     ]
    },
    {
     "data": {
      "text/html": [
       "<div>\n",
       "<style scoped>\n",
       "    .dataframe tbody tr th:only-of-type {\n",
       "        vertical-align: middle;\n",
       "    }\n",
       "\n",
       "    .dataframe tbody tr th {\n",
       "        vertical-align: top;\n",
       "    }\n",
       "\n",
       "    .dataframe thead th {\n",
       "        text-align: right;\n",
       "    }\n",
       "</style>\n",
       "<table border=\"1\" class=\"dataframe\">\n",
       "  <thead>\n",
       "    <tr style=\"text-align: right;\">\n",
       "      <th></th>\n",
       "      <th>Id</th>\n",
       "      <th>Category</th>\n",
       "    </tr>\n",
       "  </thead>\n",
       "  <tbody>\n",
       "    <tr>\n",
       "      <th>0</th>\n",
       "      <td>391</td>\n",
       "      <td>GREAT KISKADEE</td>\n",
       "    </tr>\n",
       "    <tr>\n",
       "      <th>1</th>\n",
       "      <td>761</td>\n",
       "      <td>AMERICAN AVOCET</td>\n",
       "    </tr>\n",
       "    <tr>\n",
       "      <th>2</th>\n",
       "      <td>1311</td>\n",
       "      <td>PARAKETT  AKULET</td>\n",
       "    </tr>\n",
       "    <tr>\n",
       "      <th>3</th>\n",
       "      <td>1425</td>\n",
       "      <td>PURPLE FINCH</td>\n",
       "    </tr>\n",
       "    <tr>\n",
       "      <th>4</th>\n",
       "      <td>1462</td>\n",
       "      <td>BLUE COAU</td>\n",
       "    </tr>\n",
       "    <tr>\n",
       "      <th>...</th>\n",
       "      <td>...</td>\n",
       "      <td>...</td>\n",
       "    </tr>\n",
       "    <tr>\n",
       "      <th>1995</th>\n",
       "      <td>19951251</td>\n",
       "      <td>LAZULI BUNTING</td>\n",
       "    </tr>\n",
       "    <tr>\n",
       "      <th>1996</th>\n",
       "      <td>19961923</td>\n",
       "      <td>HOOPOES</td>\n",
       "    </tr>\n",
       "    <tr>\n",
       "      <th>1997</th>\n",
       "      <td>19981965</td>\n",
       "      <td>WHITE THROATED BEE EATER</td>\n",
       "    </tr>\n",
       "    <tr>\n",
       "      <th>1998</th>\n",
       "      <td>19991139</td>\n",
       "      <td>IBERIAN MAGPIE</td>\n",
       "    </tr>\n",
       "    <tr>\n",
       "      <th>1999</th>\n",
       "      <td>19991200</td>\n",
       "      <td>JANDAYA PARAKEET</td>\n",
       "    </tr>\n",
       "  </tbody>\n",
       "</table>\n",
       "<p>2000 rows × 2 columns</p>\n",
       "</div>"
      ],
      "text/plain": [
       "            Id                  Category\n",
       "0          391            GREAT KISKADEE\n",
       "1          761           AMERICAN AVOCET\n",
       "2         1311          PARAKETT  AKULET\n",
       "3         1425              PURPLE FINCH\n",
       "4         1462                 BLUE COAU\n",
       "...        ...                       ...\n",
       "1995  19951251            LAZULI BUNTING\n",
       "1996  19961923                   HOOPOES\n",
       "1997  19981965  WHITE THROATED BEE EATER\n",
       "1998  19991139            IBERIAN MAGPIE\n",
       "1999  19991200          JANDAYA PARAKEET\n",
       "\n",
       "[2000 rows x 2 columns]"
      ]
     },
     "execution_count": 67,
     "metadata": {},
     "output_type": "execute_result"
    }
   ],
   "source": [
    "#creamos dos arrays con las dos listas y una tabla con ellos que pasamos a csv\n",
    "array_de =np.array([lista_Indice,lista_Category])\n",
    "array_de2 =np.transpose(array_de)\n",
    "print(array_de)\n",
    "tabla = pd.DataFrame(data=array_de2 , columns=['Id','Category'])\n",
    "tabla"
   ]
  },
  {
   "cell_type": "code",
   "execution_count": 68,
   "id": "908f9b71",
   "metadata": {},
   "outputs": [],
   "source": [
    "#aqui transformamos la tabla a csv cambiar el path para guardar donde quieras\n",
    "tabla_path = 'C:/Users/eloy/Downloads/jupiter ia/vitcsv.csv'\n",
    "tabla.to_csv(tabla_path,index=False)\n"
   ]
  },
  {
   "cell_type": "code",
   "execution_count": null,
   "id": "c1a9574e",
   "metadata": {},
   "outputs": [],
   "source": []
  },
  {
   "cell_type": "code",
   "execution_count": null,
   "id": "a8801082",
   "metadata": {},
   "outputs": [],
   "source": []
  }
 ],
 "metadata": {
  "kernelspec": {
   "display_name": "Python 3 (ipykernel)",
   "language": "python",
   "name": "python3"
  },
  "language_info": {
   "codemirror_mode": {
    "name": "ipython",
    "version": 3
   },
   "file_extension": ".py",
   "mimetype": "text/x-python",
   "name": "python",
   "nbconvert_exporter": "python",
   "pygments_lexer": "ipython3",
   "version": "3.9.12"
  }
 },
 "nbformat": 4,
 "nbformat_minor": 5
}
